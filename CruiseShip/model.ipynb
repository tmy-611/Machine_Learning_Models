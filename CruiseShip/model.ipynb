{
  "cells": [
    {
      "cell_type": "markdown",
      "metadata": {
        "id": "view-in-github",
        "colab_type": "text"
      },
      "source": [
        "<a href=\"https://colab.research.google.com/github/tmy-611/Machine_Learning_Models/blob/main/CruiseShip/model.ipynb\" target=\"_parent\"><img src=\"https://colab.research.google.com/assets/colab-badge.svg\" alt=\"Open In Colab\"/></a>"
      ]
    },
    {
      "cell_type": "markdown",
      "source": [
        "## Setup Environment\n"
      ],
      "metadata": {
        "id": "SwzGA0feV_zz"
      }
    },
    {
      "cell_type": "code",
      "source": [
        "!apt-get update\n",
        "!apt-get install openjdk-8-jdk-headless -qq > /dev/null\n",
        "!wget -q http://archive.apache.org/dist/spark/spark-3.1.1/spark-3.1.1-bin-hadoop3.2.tgz\n",
        "!tar xf spark-3.1.1-bin-hadoop3.2.tgz\n",
        "!pip install -q findspark\n",
        "import os\n",
        "os.environ[\"JAVA_HOME\"] = \"/usr/lib/jvm/java-8-openjdk-amd64\"\n",
        "os.environ[\"SPARK_HOME\"] = \"/content/spark-3.1.1-bin-hadoop3.2\"\n",
        "import findspark\n",
        "findspark.init()"
      ],
      "metadata": {
        "colab": {
          "base_uri": "https://localhost:8080/"
        },
        "id": "oyn-ij1dV_SA",
        "outputId": "360398b1-7733-4039-ffe4-6eb889b9aa74"
      },
      "execution_count": 1,
      "outputs": [
        {
          "output_type": "stream",
          "name": "stdout",
          "text": [
            "Hit:1 http://archive.ubuntu.com/ubuntu jammy InRelease\n",
            "Get:2 http://archive.ubuntu.com/ubuntu jammy-updates InRelease [128 kB]\n",
            "Get:3 http://archive.ubuntu.com/ubuntu jammy-backports InRelease [127 kB]\n",
            "Get:4 http://security.ubuntu.com/ubuntu jammy-security InRelease [129 kB]\n",
            "Get:5 https://cloud.r-project.org/bin/linux/ubuntu jammy-cran40/ InRelease [3,632 B]\n",
            "Get:6 https://developer.download.nvidia.com/compute/cuda/repos/ubuntu2204/x86_64  InRelease [1,581 B]\n",
            "Get:7 https://r2u.stat.illinois.edu/ubuntu jammy InRelease [6,555 B]\n",
            "Hit:8 https://ppa.launchpadcontent.net/deadsnakes/ppa/ubuntu jammy InRelease\n",
            "Hit:9 https://ppa.launchpadcontent.net/graphics-drivers/ppa/ubuntu jammy InRelease\n",
            "Hit:10 https://ppa.launchpadcontent.net/ubuntugis/ppa/ubuntu jammy InRelease\n",
            "Get:11 http://archive.ubuntu.com/ubuntu jammy-updates/main amd64 Packages [2,957 kB]\n",
            "Get:12 http://archive.ubuntu.com/ubuntu jammy-updates/restricted amd64 Packages [3,830 kB]\n",
            "Get:13 http://archive.ubuntu.com/ubuntu jammy-updates/universe amd64 Packages [1,533 kB]\n",
            "Get:14 http://security.ubuntu.com/ubuntu jammy-security/restricted amd64 Packages [3,688 kB]\n",
            "Get:15 http://security.ubuntu.com/ubuntu jammy-security/universe amd64 Packages [1,235 kB]\n",
            "Get:16 http://security.ubuntu.com/ubuntu jammy-security/main amd64 Packages [2,649 kB]\n",
            "Get:17 https://developer.download.nvidia.com/compute/cuda/repos/ubuntu2204/x86_64  Packages [1,321 kB]\n",
            "Get:18 https://r2u.stat.illinois.edu/ubuntu jammy/main amd64 Packages [2,662 kB]\n",
            "Get:19 https://r2u.stat.illinois.edu/ubuntu jammy/main all Packages [8,705 kB]\n",
            "Fetched 29.0 MB in 7s (4,109 kB/s)\n",
            "Reading package lists... Done\n",
            "W: Skipping acquire of configured file 'main/source/Sources' as repository 'https://r2u.stat.illinois.edu/ubuntu jammy InRelease' does not seem to provide it (sources.list entry misspelt?)\n"
          ]
        }
      ]
    },
    {
      "cell_type": "code",
      "source": [
        "# Import libraries\n",
        "from pyspark import SparkContext, SparkConf\n",
        "from pyspark.sql import SparkSession\n",
        "from pyspark.sql.functions import col\n",
        "from pyspark.ml.feature import StringIndexer, VectorAssembler\n",
        "from pyspark.ml.regression import LinearRegression\n",
        "from pyspark.ml.evaluation import RegressionEvaluator\n",
        "from pyspark.ml import Pipeline\n",
        "import matplotlib.pyplot as plt"
      ],
      "metadata": {
        "id": "Ip_U2-B7azWT"
      },
      "execution_count": 10,
      "outputs": []
    },
    {
      "cell_type": "code",
      "source": [
        "sc = SparkContext(conf=SparkConf())\n",
        "spark = SparkSession(sparkContext=sc)"
      ],
      "metadata": {
        "id": "05l9CUZrWJO8"
      },
      "execution_count": 3,
      "outputs": []
    },
    {
      "cell_type": "markdown",
      "metadata": {
        "id": "ZzyqlkZJp-QV"
      },
      "source": [
        "# Linear Regression Consulting Project"
      ]
    },
    {
      "cell_type": "markdown",
      "metadata": {
        "collapsed": true,
        "id": "ZN8LV9Tap-QZ"
      },
      "source": [
        "Here is what the data looks like so far:\n",
        "\n",
        "    Description: Measurements of ship size, capacity, crew, and age for 158 cruise\n",
        "    ships.\n",
        "\n",
        "\n",
        "    Variables/Columns\n",
        "    Ship Name     1-20\n",
        "    Cruise Line   21-40\n",
        "    Age (as of 2013)   46-48\n",
        "    Tonnage (1000s of tons)   50-56\n",
        "    passengers (100s)   58-64\n",
        "    Length (100s of feet)  66-72\n",
        "    Cabins  (100s)   74-80\n",
        "    Passenger Density   82-88\n",
        "    Crew  (100s)   90-96\n",
        "    \n",
        "It is saved in a csv file called \"cruise_ship_info.csv\". I am going to create a regression model that will help predict how many crew members will be needed for future ships.\n"
      ]
    },
    {
      "cell_type": "code",
      "source": [
        "# Import file\n",
        "from google.colab import files\n",
        "files.upload()"
      ],
      "metadata": {
        "id": "anCeZzzPqJBl",
        "colab": {
          "base_uri": "https://localhost:8080/",
          "height": 128
        },
        "outputId": "023a965e-51c6-4510-f721-0db58bb71470"
      },
      "execution_count": 4,
      "outputs": [
        {
          "output_type": "display_data",
          "data": {
            "text/plain": [
              "<IPython.core.display.HTML object>"
            ],
            "text/html": [
              "\n",
              "     <input type=\"file\" id=\"files-b0b081c0-2a84-43a9-a7e7-6585af6ff8b0\" name=\"files[]\" multiple disabled\n",
              "        style=\"border:none\" />\n",
              "     <output id=\"result-b0b081c0-2a84-43a9-a7e7-6585af6ff8b0\">\n",
              "      Upload widget is only available when the cell has been executed in the\n",
              "      current browser session. Please rerun this cell to enable.\n",
              "      </output>\n",
              "      <script>// Copyright 2017 Google LLC\n",
              "//\n",
              "// Licensed under the Apache License, Version 2.0 (the \"License\");\n",
              "// you may not use this file except in compliance with the License.\n",
              "// You may obtain a copy of the License at\n",
              "//\n",
              "//      http://www.apache.org/licenses/LICENSE-2.0\n",
              "//\n",
              "// Unless required by applicable law or agreed to in writing, software\n",
              "// distributed under the License is distributed on an \"AS IS\" BASIS,\n",
              "// WITHOUT WARRANTIES OR CONDITIONS OF ANY KIND, either express or implied.\n",
              "// See the License for the specific language governing permissions and\n",
              "// limitations under the License.\n",
              "\n",
              "/**\n",
              " * @fileoverview Helpers for google.colab Python module.\n",
              " */\n",
              "(function(scope) {\n",
              "function span(text, styleAttributes = {}) {\n",
              "  const element = document.createElement('span');\n",
              "  element.textContent = text;\n",
              "  for (const key of Object.keys(styleAttributes)) {\n",
              "    element.style[key] = styleAttributes[key];\n",
              "  }\n",
              "  return element;\n",
              "}\n",
              "\n",
              "// Max number of bytes which will be uploaded at a time.\n",
              "const MAX_PAYLOAD_SIZE = 100 * 1024;\n",
              "\n",
              "function _uploadFiles(inputId, outputId) {\n",
              "  const steps = uploadFilesStep(inputId, outputId);\n",
              "  const outputElement = document.getElementById(outputId);\n",
              "  // Cache steps on the outputElement to make it available for the next call\n",
              "  // to uploadFilesContinue from Python.\n",
              "  outputElement.steps = steps;\n",
              "\n",
              "  return _uploadFilesContinue(outputId);\n",
              "}\n",
              "\n",
              "// This is roughly an async generator (not supported in the browser yet),\n",
              "// where there are multiple asynchronous steps and the Python side is going\n",
              "// to poll for completion of each step.\n",
              "// This uses a Promise to block the python side on completion of each step,\n",
              "// then passes the result of the previous step as the input to the next step.\n",
              "function _uploadFilesContinue(outputId) {\n",
              "  const outputElement = document.getElementById(outputId);\n",
              "  const steps = outputElement.steps;\n",
              "\n",
              "  const next = steps.next(outputElement.lastPromiseValue);\n",
              "  return Promise.resolve(next.value.promise).then((value) => {\n",
              "    // Cache the last promise value to make it available to the next\n",
              "    // step of the generator.\n",
              "    outputElement.lastPromiseValue = value;\n",
              "    return next.value.response;\n",
              "  });\n",
              "}\n",
              "\n",
              "/**\n",
              " * Generator function which is called between each async step of the upload\n",
              " * process.\n",
              " * @param {string} inputId Element ID of the input file picker element.\n",
              " * @param {string} outputId Element ID of the output display.\n",
              " * @return {!Iterable<!Object>} Iterable of next steps.\n",
              " */\n",
              "function* uploadFilesStep(inputId, outputId) {\n",
              "  const inputElement = document.getElementById(inputId);\n",
              "  inputElement.disabled = false;\n",
              "\n",
              "  const outputElement = document.getElementById(outputId);\n",
              "  outputElement.innerHTML = '';\n",
              "\n",
              "  const pickedPromise = new Promise((resolve) => {\n",
              "    inputElement.addEventListener('change', (e) => {\n",
              "      resolve(e.target.files);\n",
              "    });\n",
              "  });\n",
              "\n",
              "  const cancel = document.createElement('button');\n",
              "  inputElement.parentElement.appendChild(cancel);\n",
              "  cancel.textContent = 'Cancel upload';\n",
              "  const cancelPromise = new Promise((resolve) => {\n",
              "    cancel.onclick = () => {\n",
              "      resolve(null);\n",
              "    };\n",
              "  });\n",
              "\n",
              "  // Wait for the user to pick the files.\n",
              "  const files = yield {\n",
              "    promise: Promise.race([pickedPromise, cancelPromise]),\n",
              "    response: {\n",
              "      action: 'starting',\n",
              "    }\n",
              "  };\n",
              "\n",
              "  cancel.remove();\n",
              "\n",
              "  // Disable the input element since further picks are not allowed.\n",
              "  inputElement.disabled = true;\n",
              "\n",
              "  if (!files) {\n",
              "    return {\n",
              "      response: {\n",
              "        action: 'complete',\n",
              "      }\n",
              "    };\n",
              "  }\n",
              "\n",
              "  for (const file of files) {\n",
              "    const li = document.createElement('li');\n",
              "    li.append(span(file.name, {fontWeight: 'bold'}));\n",
              "    li.append(span(\n",
              "        `(${file.type || 'n/a'}) - ${file.size} bytes, ` +\n",
              "        `last modified: ${\n",
              "            file.lastModifiedDate ? file.lastModifiedDate.toLocaleDateString() :\n",
              "                                    'n/a'} - `));\n",
              "    const percent = span('0% done');\n",
              "    li.appendChild(percent);\n",
              "\n",
              "    outputElement.appendChild(li);\n",
              "\n",
              "    const fileDataPromise = new Promise((resolve) => {\n",
              "      const reader = new FileReader();\n",
              "      reader.onload = (e) => {\n",
              "        resolve(e.target.result);\n",
              "      };\n",
              "      reader.readAsArrayBuffer(file);\n",
              "    });\n",
              "    // Wait for the data to be ready.\n",
              "    let fileData = yield {\n",
              "      promise: fileDataPromise,\n",
              "      response: {\n",
              "        action: 'continue',\n",
              "      }\n",
              "    };\n",
              "\n",
              "    // Use a chunked sending to avoid message size limits. See b/62115660.\n",
              "    let position = 0;\n",
              "    do {\n",
              "      const length = Math.min(fileData.byteLength - position, MAX_PAYLOAD_SIZE);\n",
              "      const chunk = new Uint8Array(fileData, position, length);\n",
              "      position += length;\n",
              "\n",
              "      const base64 = btoa(String.fromCharCode.apply(null, chunk));\n",
              "      yield {\n",
              "        response: {\n",
              "          action: 'append',\n",
              "          file: file.name,\n",
              "          data: base64,\n",
              "        },\n",
              "      };\n",
              "\n",
              "      let percentDone = fileData.byteLength === 0 ?\n",
              "          100 :\n",
              "          Math.round((position / fileData.byteLength) * 100);\n",
              "      percent.textContent = `${percentDone}% done`;\n",
              "\n",
              "    } while (position < fileData.byteLength);\n",
              "  }\n",
              "\n",
              "  // All done.\n",
              "  yield {\n",
              "    response: {\n",
              "      action: 'complete',\n",
              "    }\n",
              "  };\n",
              "}\n",
              "\n",
              "scope.google = scope.google || {};\n",
              "scope.google.colab = scope.google.colab || {};\n",
              "scope.google.colab._files = {\n",
              "  _uploadFiles,\n",
              "  _uploadFilesContinue,\n",
              "};\n",
              "})(self);\n",
              "</script> "
            ]
          },
          "metadata": {}
        },
        {
          "output_type": "stream",
          "name": "stdout",
          "text": [
            "Saving cruise_ship_info.csv to cruise_ship_info.csv\n"
          ]
        },
        {
          "output_type": "execute_result",
          "data": {
            "text/plain": [
              "{'cruise_ship_info.csv': b'Ship_name,Cruise_line,Age,Tonnage,passengers,length,cabins,passenger_density,crew\\nJourney,Azamara,6,30.276999999999997,6.94,5.94,3.55,42.64,3.55\\nQuest,Azamara,6,30.276999999999997,6.94,5.94,3.55,42.64,3.55\\nCelebration,Carnival,26,47.262,14.86,7.22,7.43,31.8,6.7\\nConquest,Carnival,11,110.0,29.74,9.53,14.88,36.99,19.1\\nDestiny,Carnival,17,101.353,26.42,8.92,13.21,38.36,10.0\\nEcstasy,Carnival,22,70.367,20.52,8.55,10.2,34.29,9.2\\nElation,Carnival,15,70.367,20.52,8.55,10.2,34.29,9.2\\nFantasy,Carnival,23,70.367,20.56,8.55,10.22,34.23,9.2\\nFascination,Carnival,19,70.367,20.52,8.55,10.2,34.29,9.2\\nFreedom,Carnival,6,110.23899999999999,37.0,9.51,14.87,29.79,11.5\\nGlory,Carnival,10,110.0,29.74,9.51,14.87,36.99,11.6\\nHoliday,Carnival,28,46.052,14.52,7.27,7.26,31.72,6.6\\nImagination,Carnival,18,70.367,20.52,8.55,10.2,34.29,9.2\\nInspiration,Carnival,17,70.367,20.52,8.55,10.2,34.29,9.2\\nLegend,Carnival,11,86.0,21.24,9.63,10.62,40.49,9.3\\nLiberty*,Carnival,8,110.0,29.74,9.51,14.87,36.99,11.6\\nMiracle,Carnival,9,88.5,21.24,9.63,10.62,41.67,10.3\\nParadise,Carnival,15,70.367,20.52,8.55,10.2,34.29,9.2\\nPride,Carnival,12,88.5,21.24,9.63,11.62,41.67,9.3\\nSensation,Carnival,20,70.367,20.52,8.55,10.2,34.29,9.2\\nSpirit,Carnival,12,88.5,21.24,9.63,10.56,41.67,10.29\\nTriumph,Carnival,14,101.509,27.58,8.93,13.21,36.81,10.0\\nValor,Carnival,9,110.0,29.74,9.52,14.87,36.99,11.6\\nVictory,Carnival,13,101.509,27.58,8.93,13.79,36.81,11.5\\nCentury,Celebrity,18,70.60600000000001,17.7,8.15,8.75,39.89,8.58\\nConstellation,Celebrity,11,91.0,20.32,9.65,9.75,44.78,9.99\\nGalaxy,Celebrity,17,77.71300000000001,18.9,8.66,9.35,41.12,9.09\\nInfinity,Celebrity,12,91.0,20.32,9.65,9.75,44.78,9.99\\nMercury,Celebrity,16,77.71300000000001,18.82,8.66,9.35,41.29,9.09\\nMillenium,Celebrity,13,91.0,20.32,9.65,9.75,44.78,9.99\\nSolstice,Celebrity,5,122.0,28.5,10.33,6.87,34.57,6.7\\nSummit,Celebrity,12,91.0,20.32,9.65,9.75,44.78,9.99\\nXpedition,Celebrity,12,2.329,0.94,2.96,0.45,24.78,0.6\\nZenith,Celebrity,21,47.225,13.66,6.82,6.87,34.57,6.7\\nAllegra,Costa,21,28.43,8.08,6.16,4.1,35.19,4.0\\nAtlantica,Costa,13,85.619,21.14,9.57,10.56,40.5,9.2\\nClassica,Costa,22,52.926,13.02,7.18,6.54,40.65,6.17\\nEuropa,Costa,27,53.872,14.94,7.98,7.67,36.06,6.36\\nFortuna,Costa,10,105.0,27.2,8.9,13.56,38.6,10.68\\nMagica,Costa,9,105.0,27.2,8.9,13.56,38.6,10.68\\nMarina,Costa,23,25.0,7.76,6.22,3.86,32.22,3.85\\nMediterranea,Costa,10,86.0,21.14,9.6,10.56,40.68,9.2\\nRomantica,Costa,20,53.049,13.44,7.22,6.78,39.47,6.0\\nSerena,Costa,6,112.0,38.0,9.51,15.0,29.47,10.9\\nVictoria,Costa,17,75.166,19.28,8.28,9.64,38.99,7.66\\nSerenity,Crystal,10,68.0,10.8,7.9,5.5,62.96,6.36\\nSymphony,Crystal,18,51.004,9.4,7.81,4.8,54.26,5.45\\nQueenElizabethII,Cunard,44,70.327,17.91,9.63,9.5,39.27,9.21\\nQueenMary2,Cunard,10,151.4,26.2,11.32,11.34,57.79,12.53\\nQueenVictoria,Cunard,6,90.0,20.0,9.64,10.29,45.0,9.0\\nMagic,Disney,15,83.338,17.5,9.64,8.75,47.62,9.45\\nWonder,Disney,14,83.0,17.5,9.64,8.75,47.43,9.45\\nAmsterdam,Holland_American,13,61.0,13.8,7.8,6.88,44.2,6.0\\nEurodam,Holland_American,5,86.0,21.04,9.36,10.22,40.87,8.0\\nMaasdam,Holland_American,20,55.451,12.64,7.19,6.32,43.87,5.57\\nNoordam,Holland_American,29,33.92,12.14,7.04,6.07,27.94,5.3\\nOosterdam,Holland_American,10,81.76899999999999,18.48,9.59,9.24,44.25,8.42\\nPrinsendam,Holland_American,25,38.0,7.49,6.74,3.96,50.73,4.6\\nRotterdam,Holland_American,16,59.652,13.2,7.77,6.6,45.19,6.44\\nRyndam,Holland_American,19,55.451,12.66,7.19,6.33,43.8,5.88\\nStatendam,Holland_American,20,55.451,12.66,7.19,6.33,43.8,5.88\\nVeendam,Holland_American,17,55.451,12.66,7.19,6.33,43.8,5.88\\nVolendam,Holland_American,14,63.0,14.4,7.77,7.2,43.75,5.61\\nWesterdam,Holland_American,27,53.872,14.94,7.98,7.47,36.06,6.12\\nZaandam,Holland_American,13,63.0,14.4,7.77,7.2,43.75,5.31\\nZuiderdam,Holland_American,11,85.0,18.48,9.51,9.24,46.0,8.0\\nArmonia,MSC,12,58.6,15.66,8.24,7.83,37.42,7.0\\nFantasia,MSC,5,133.5,39.59,10.93,16.37,33.72,13.13\\nLirica,MSC,10,58.825,15.6,8.23,7.65,37.71,7.0\\nMelody,MSC,31,35.143,12.5,6.69,5.32,28.11,5.35\\nMusica,MSC,7,89.6,25.5,9.61,12.75,35.14,9.87\\nOpera,MSC,9,59.058,17.0,7.63,8.5,34.74,7.4\\nRhapsody,MSC,36,16.852,9.52,5.41,3.83,17.7,2.97\\nSinfonia,MSC,11,58.6,15.66,8.23,7.83,37.42,7.6\\nCrown,Norwegian,25,34.25,10.52,6.15,5.26,32.56,4.7\\nDawn,Norwegian,11,90.0,22.4,9.65,11.2,40.18,11.0\\nDream,Norwegian,21,50.76,17.48,7.54,8.74,29.04,6.14\\nGem,Norwegian,6,93.0,23.94,9.65,11.97,38.85,11.09\\nJewel,Norwegian,8,91.0,22.44,9.65,11.22,40.55,11.0\\nMajesty,Norwegian,21,38.0,10.56,5.67,5.28,35.98,4.38\\nPrideofAloha,Norwegian,14,77.104,20.02,8.53,10.01,38.51,8.0\\nPrideofAmerica,Norwegian,9,81.0,21.44,9.21,10.72,37.78,10.0\\nSea,Norwegian,25,42.0,15.04,7.08,7.52,27.93,6.3\\nSpirit,Norwegian,15,75.33800000000001,19.56,8.79,9.83,38.52,13.0\\nStar,Norwegian,40,28.0,11.5,6.74,4.0,24.35,3.8\\nSun,Norwegian,12,77.104,20.02,8.53,10.01,38.51,9.59\\nWind,Norwegian,20,50.76,17.48,7.54,8.74,29.04,6.14\\nInsignia,Oceania,15,30.276999999999997,6.84,5.94,3.42,44.26,4.0\\nNautica,Oceania,13,30.276999999999997,6.84,5.94,3.42,44.26,4.0\\nRegatta,Oceania,15,30.276999999999997,6.84,5.94,3.42,44.26,4.0\\nMarcoPolo,Orient,48,22.08,8.26,5.78,4.25,26.73,3.5\\nArcadia,P&O,9,85.0,19.68,9.35,9.84,43.19,8.69\\nArtemis,P&O,29,45.0,11.78,7.54,5.3,38.2,5.2\\nAurora,P&O,13,76.0,18.74,8.86,9.39,40.55,8.5\\nOceana,P&O,10,77.0,20.16,8.56,9.75,38.19,9.0\\nOriana,P&O,18,69.153,18.82,8.53,9.14,36.74,7.94\\nVentura,P&O,5,115.0,35.74,9.0,15.32,32.18,12.2\\nCaribbean,Princess,9,116.0,26.0,9.51,13.0,44.62,11.0\\nCoral,Princess,11,91.62700000000001,19.74,9.64,9.87,46.42,9.0\\nCrown,Princess,7,116.0,31.0,9.51,15.57,37.42,12.0\\nDawn,Princess,16,77.499,19.5,8.56,10.5,39.74,9.0\\nDiamond,Princess,9,113.0,26.74,9.51,13.37,42.26,12.38\\nEmerald,Princess,6,113.0,37.82,9.51,15.57,29.88,12.0\\nGolden,Princess,12,108.865,27.58,9.51,13.0,39.47,11.0\\nGrand,Princess,15,108.806,26.0,9.51,13.0,41.85,11.1\\nIsland,Princess,10,91.62700000000001,19.74,9.64,9.87,46.42,9.0\\nPacific,Princess,14,30.276999999999997,6.86,5.93,3.44,44.14,3.73\\nRegal,Princess,22,69.845,15.9,8.03,7.95,43.93,6.96\\nRoyal,Princess,29,44.348,12.0,7.54,6.0,36.96,5.2\\nSaphire,Princess,9,113.0,26.74,9.51,13.37,42.26,12.38\\nSea,Princess,8,77.499,19.5,8.56,9.75,39.74,9.0\\nStar,Princess,11,108.977,26.02,9.51,13.01,41.88,12.0\\nSun,Princess,18,77.499,19.5,8.56,9.75,39.74,9.0\\nTahitian,Princess,14,30.276999999999997,6.88,5.93,3.44,44.01,3.73\\nExplorerII,Regent_Seven_Seas,27,12.5,3.94,4.36,0.88,31.73,1.46\\nMariner,Regent_Seven_Seas,12,50.0,7.0,7.09,3.54,71.43,4.45\\nNavigator,Regent_Seven_Seas,14,33.0,4.9,5.6,2.45,67.35,3.24\\nPaulGauguin,Regent_Seven_Seas,16,19.2,3.2,5.13,1.6,60.0,2.11\\nVoyager,Regent_Seven_Seas,10,46.0,7.0,6.7,1.82,65.71,4.47\\nAdventure,Royal_Caribbean,12,138.0,31.14,10.2,15.57,44.32,11.85\\nBrilliance,Royal_Caribbean,11,90.09,25.01,9.62,10.5,36.02,8.48\\nEmpress,Royal_Caribbean,23,48.563,20.2,6.92,8.0,24.04,6.71\\nEnchantment,Royal_Caribbean,16,74.137,19.5,9.16,9.75,38.02,7.6\\nExplorer,Royal_Caribbean,13,138.0,31.14,10.2,15.57,44.32,11.76\\nFreedom,Royal_Caribbean,7,158.0,43.7,11.12,18.0,36.16,13.6\\nGrandeur,Royal_Caribbean,17,74.137,19.5,9.16,9.75,38.02,7.6\\nIndependence,Royal_Caribbean,5,160.0,36.34,11.12,18.17,44.03,13.6\\nJewel,Royal_Caribbean,9,90.09,25.01,9.62,10.94,36.02,8.69\\nLegend,Royal_Caribbean,18,70.0,18.0,8.67,9.0,38.89,7.2\\nLiberty,Royal_Caribbean,6,158.0,43.7,11.25,18.0,36.16,13.6\\nMajesty,Royal_Caribbean,21,73.941,27.44,8.8,11.75,26.95,8.22\\nMariner,Royal_Caribbean,10,138.0,31.14,10.2,15.57,44.32,11.85\\nMonarch,Royal_Caribbean,22,73.941,27.44,8.8,11.77,30.94,8.22\\nNavigator,Royal_Caribbean,11,138.0,31.14,10.2,15.57,44.32,11.85\\nOasis,Royal_Caribbean,4,220.0,54.0,11.82,27.0,40.74,21.0\\nRadiance,Royal_Caribbean,12,90.09,25.01,9.62,10.5,36.02,8.68\\nRhapsody,Royal_Caribbean,16,78.491,24.35,9.15,10.0,32.23,7.65\\nSerenade,Royal_Caribbean,10,90.09,25.01,9.62,10.5,36.02,8.58\\nSovreign,Royal_Caribbean,25,73.192,28.52,8.8,11.38,25.66,8.08\\nSplendour,Royal_Caribbean,17,70.0,20.76,8.67,9.02,33.72,7.2\\nVision,Royal_Caribbean,15,78.491,24.35,9.15,10.0,32.23,6.6\\nVoyager,Royal_Caribbean,14,138.0,31.14,10.2,15.57,44.32,11.76\\nLegend,Seabourn,21,10.0,2.08,4.4,1.04,48.08,1.6\\nPride,Seabourn,27,10.0,2.08,4.4,1.04,48.08,1.6\\nSpirit,Seabourn,24,10.0,2.08,4.4,1.04,48.08,1.6\\nCloud,Silversea,19,16.8,2.96,5.14,1.48,56.76,2.1\\nShadow,Silversea,13,25.0,3.82,5.97,1.94,65.45,2.95\\nWhisper,Silversea,12,25.0,3.88,5.97,1.94,64.43,2.87\\nWind,Silversea,19,16.8,2.96,5.14,1.48,56.76,1.97\\nAries,Star,22,3.341,0.66,2.8,0.33,50.62,0.59\\nGemini,Star,21,19.093,8.0,5.37,4.0,23.87,4.7\\nLibra,Star,12,42.0,14.8,7.13,7.4,28.38,6.8\\nPisces,Star,24,40.053000000000004,12.87,5.79,7.76,31.12,7.5\\nTaurus,Star,22,3.341,0.66,2.79,0.33,50.62,0.59\\nVirgo,Star,14,76.8,19.6,8.79,9.67,39.18,12.0\\nSpirit,Windstar,25,5.35,1.58,4.4,0.74,33.86,0.88\\nStar,Windstar,27,5.35,1.67,4.4,0.74,32.04,0.88\\nSurf,Windstar,23,14.745,3.08,6.17,1.56,47.87,1.8\\n'}"
            ]
          },
          "metadata": {},
          "execution_count": 4
        }
      ]
    },
    {
      "cell_type": "code",
      "source": [
        "df = spark.read.csv('cruise_ship_info.csv', header=True, inferSchema=True)\n",
        "df.show(5)"
      ],
      "metadata": {
        "colab": {
          "base_uri": "https://localhost:8080/"
        },
        "id": "229sCox-Wkhd",
        "outputId": "7244a595-c07a-4f59-f39b-e2c07a111d73"
      },
      "execution_count": 5,
      "outputs": [
        {
          "output_type": "stream",
          "name": "stdout",
          "text": [
            "+-----------+-----------+---+------------------+----------+------+------+-----------------+----+\n",
            "|  Ship_name|Cruise_line|Age|           Tonnage|passengers|length|cabins|passenger_density|crew|\n",
            "+-----------+-----------+---+------------------+----------+------+------+-----------------+----+\n",
            "|    Journey|    Azamara|  6|30.276999999999997|      6.94|  5.94|  3.55|            42.64|3.55|\n",
            "|      Quest|    Azamara|  6|30.276999999999997|      6.94|  5.94|  3.55|            42.64|3.55|\n",
            "|Celebration|   Carnival| 26|            47.262|     14.86|  7.22|  7.43|             31.8| 6.7|\n",
            "|   Conquest|   Carnival| 11|             110.0|     29.74|  9.53| 14.88|            36.99|19.1|\n",
            "|    Destiny|   Carnival| 17|           101.353|     26.42|  8.92| 13.21|            38.36|10.0|\n",
            "+-----------+-----------+---+------------------+----------+------+------+-----------------+----+\n",
            "only showing top 5 rows\n",
            "\n"
          ]
        }
      ]
    },
    {
      "cell_type": "code",
      "source": [
        "# Initialize Spark session\n",
        "spark = SparkSession.builder.appName(\"CrewPrediction\").getOrCreate()"
      ],
      "metadata": {
        "id": "z5JoE4ZMW3im"
      },
      "execution_count": 6,
      "outputs": []
    },
    {
      "cell_type": "code",
      "source": [
        "# Convert Cruise_line to numerical using StringIndexer\n",
        "indexer = StringIndexer(inputCol=\"Cruise_line\", outputCol=\"Cruise_line_index\")\n",
        "data_indexed = indexer.fit(df).transform(df)\n",
        "\n",
        "# Assemble features vector\n",
        "assembler = VectorAssembler(\n",
        "    inputCols=[\"Age\", \"Tonnage\", \"passengers\", \"length\", \"cabins\", \"passenger_density\",\n",
        "               \"Cruise_line_index\"],\n",
        "    outputCol=\"features\"\n",
        ")\n",
        "data_assembled = assembler.transform(data_indexed)\n",
        "\n",
        "# Split the data into training and testing sets\n",
        "train_data, test_data = data_assembled.randomSplit([0.8, 0.2], seed=42)\n",
        "\n",
        "# Create the Linear Regression model\n",
        "lr = LinearRegression(featuresCol=\"features\", labelCol=\"crew\")\n",
        "\n",
        "# Train the model\n",
        "model = lr.fit(train_data)\n",
        "\n",
        "# Make predictions\n",
        "predictions = model.transform(test_data)\n",
        "\n",
        "# Evaluate the model\n",
        "evaluator = RegressionEvaluator(labelCol=\"crew\", predictionCol=\"prediction\",\n",
        "                                metricName=\"rmse\")\n",
        "rmse = evaluator.evaluate(predictions)\n",
        "r2 = evaluator.evaluate(predictions, {evaluator.metricName: \"r2\"})\n",
        "\n",
        "# Print the results\n",
        "print(\"Root Mean Squared Error (RMSE):\", rmse)\n",
        "print(\"R-squared (R2):\", r2)\n"
      ],
      "metadata": {
        "colab": {
          "base_uri": "https://localhost:8080/"
        },
        "id": "vX_-Qi5ldqBq",
        "outputId": "52b5056c-a594-4148-9a8f-0a997213a57b"
      },
      "execution_count": 7,
      "outputs": [
        {
          "output_type": "stream",
          "name": "stdout",
          "text": [
            "Root Mean Squared Error (RMSE): 0.6866161447133091\n",
            "R-squared (R2): 0.9535112044507553\n"
          ]
        }
      ]
    },
    {
      "cell_type": "code",
      "source": [
        "predictions.select(\"prediction\", \"crew\").show()"
      ],
      "metadata": {
        "colab": {
          "base_uri": "https://localhost:8080/"
        },
        "id": "bUPQXWvDe_N9",
        "outputId": "de133bf8-78fa-4dce-f14f-28cd83fb3455"
      },
      "execution_count": 8,
      "outputs": [
        {
          "output_type": "stream",
          "name": "stdout",
          "text": [
            "+------------------+-----+\n",
            "|        prediction| crew|\n",
            "+------------------+-----+\n",
            "| 6.496498937895589|  6.0|\n",
            "| 5.346373159744126|  5.2|\n",
            "| 8.836959231520655|  8.5|\n",
            "| 6.024079863758641| 6.17|\n",
            "|12.682403972358513| 12.0|\n",
            "|11.376383220897079|12.38|\n",
            "| 8.627433925631935|  7.6|\n",
            "| 8.576830723921612|  9.2|\n",
            "|11.066295496952275| 11.1|\n",
            "| 8.617239659146605|  7.6|\n",
            "| 6.119985003885708|  6.6|\n",
            "|15.141824284742334| 13.6|\n",
            "| 4.055137547657446|  4.0|\n",
            "|  9.26168761445615| 8.69|\n",
            "|6.7663045753968145|  6.8|\n",
            "| 4.541903872782736|  3.5|\n",
            "| 9.579634982321434| 10.3|\n",
            "|10.194544352310366|  9.0|\n",
            "| 6.374034862569653|  6.3|\n",
            "|  8.87621169041217| 8.58|\n",
            "+------------------+-----+\n",
            "only showing top 20 rows\n",
            "\n"
          ]
        }
      ]
    },
    {
      "cell_type": "code",
      "source": [
        "# Extract the predicted and actual values from the predictions DataFrame\n",
        "predicted_crew = predictions.select(\"prediction\").collect()\n",
        "actual_crew = predictions.select(\"crew\").collect()\n",
        "\n",
        "# Prepare the data for plotting\n",
        "x_values = range(len(predicted_crew))\n",
        "y_values_predicted = [p[0] for p in predicted_crew]\n",
        "y_values_actual = [a[0] for a in actual_crew]\n",
        "\n",
        "# Create the plot\n",
        "plt.figure(figsize=(10, 6))\n",
        "plt.scatter(x_values, y_values_actual, label=\"Actual Crew Members\",\n",
        "            color=\"blue\")\n",
        "plt.plot(x_values, y_values_predicted, label=\"Predicted Crew Members\",\n",
        "         color=\"orange\")\n",
        "\n",
        "# Add labels and title\n",
        "plt.xlabel(\"Data Point\")\n",
        "plt.ylabel(\"Crew Count\")\n",
        "plt.title(\"Predicted vs. Actual Crew Count\")\n",
        "\n",
        "# Add legend and show the plot\n",
        "plt.legend()\n",
        "plt.show()\n"
      ],
      "metadata": {
        "colab": {
          "base_uri": "https://localhost:8080/",
          "height": 564
        },
        "id": "QfjPuRNngrzi",
        "outputId": "6a28cc87-7369-4664-9dce-ecf46beb551d"
      },
      "execution_count": 11,
      "outputs": [
        {
          "output_type": "display_data",
          "data": {
            "text/plain": [
              "<Figure size 1000x600 with 1 Axes>"
            ],
            "image/png": "[encoded data removed]"
          },
          "metadata": {}
        }
      ]
    },
    {
      "cell_type": "markdown",
      "source": [
        "As we can see, the predictions is pretty close to the testing label, so it indicates that this is a good model to predict the crew members that needed for future ships. I think one of the reasons that make the model performs well is that the given dataset is high-quality and well-preprocessed."
      ],
      "metadata": {
        "id": "wc0ImqrMf4yr"
      }
    }
  ],
  "metadata": {
    "anaconda-cloud": {},
    "kernelspec": {
      "display_name": "Python [conda root]",
      "language": "python",
      "name": "conda-root-py"
    },
    "language_info": {
      "codemirror_mode": {
        "name": "ipython",
        "version": 3
      },
      "file_extension": ".py",
      "mimetype": "text/x-python",
      "name": "python",
      "nbconvert_exporter": "python",
      "pygments_lexer": "ipython3",
      "version": "3.5.3"
    },
    "colab": {
      "provenance": [],
      "include_colab_link": true
    }
  },
  "nbformat": 4,
  "nbformat_minor": 0
}