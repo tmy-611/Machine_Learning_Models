{
 "cells": [
  {
   "cell_type": "markdown",
   "metadata": {},
   "source": [
    "Dataset link: https://www.kaggle.com/competitions/house-prices-advanced-regression-techniques/data\n",
    "\n",
    "From this dataset, I build a Machine Learning model in Spark and Java to predict the house price."
   ]
  },
  {
   "cell_type": "markdown",
   "metadata": {},
   "source": [
    "In this section, I follow each steps below:\n",
    "\n",
    "1. Foundation\n",
    "- Set up environment\n",
    "- Initial Spark Context\n",
    "2. Explore and Preprocessing data\n",
    "- Exploratory Data Analysis (EDA)\n",
    "- Feature Selecting\n",
    "- Missing Values Handling\n",
    "- Feature Engineering: StringIndexing, OneHotEncoding, VectorAssembling methods\n",
    "3. Train-Test Split\n",
    "4. Choose Model for Training and Prediction\n",
    "5. Evaluate The Model\n",
    "6. Plot the Prediction value and Actual value"
   ]
  },
  {
   "cell_type": "markdown",
   "metadata": {},
   "source": [
    "--------------------------------------------------------------"
   ]
  },
  {
   "cell_type": "markdown",
   "metadata": {},
   "source": [
    "1. Foundation"
   ]
  },
  {
   "cell_type": "code",
   "execution_count": 2,
   "metadata": {},
   "outputs": [],
   "source": [
    "import pyspark\n",
    "import findspark\n",
    "import numpy as np"
   ]
  },
  {
   "cell_type": "code",
   "execution_count": 3,
   "metadata": {},
   "outputs": [],
   "source": [
    "from pyspark import SparkContext\n",
    "sc = SparkContext(master = 'local')\n",
    "\n",
    "from pyspark.sql import SparkSession\n",
    "spark = SparkSession.builder \\\n",
    "          .appName(\"House Pricing Prediction\") \\\n",
    "          .config(\"spark.some.config.option\", \"some-value\") \\\n",
    "          .getOrCreate()"
   ]
  },
  {
   "cell_type": "markdown",
   "metadata": {},
   "source": [
    "2. Explore and Preprocessing data"
   ]
  },
  {
   "cell_type": "code",
   "execution_count": 4,
   "metadata": {},
   "outputs": [
    {
     "name": "stdout",
     "output_type": "stream",
     "text": [
      "+---+----------+--------+-----------+-------+------+-----+--------+-----------+---------+---------+---------+------------+----------+----------+--------+----------+-----------+-----------+---------+------------+---------+--------+-----------+-----------+----------+----------+---------+---------+----------+--------+--------+------------+------------+----------+------------+----------+---------+-----------+-------+---------+----------+----------+--------+--------+------------+---------+------------+------------+--------+--------+------------+------------+-----------+------------+----------+----------+-----------+----------+-----------+------------+----------+----------+----------+----------+----------+----------+-----------+-------------+---------+-----------+--------+------+-----+-----------+-------+------+------+--------+-------------+---------+\n",
      "| Id|MSSubClass|MSZoning|LotFrontage|LotArea|Street|Alley|LotShape|LandContour|Utilities|LotConfig|LandSlope|Neighborhood|Condition1|Condition2|BldgType|HouseStyle|OverallQual|OverallCond|YearBuilt|YearRemodAdd|RoofStyle|RoofMatl|Exterior1st|Exterior2nd|MasVnrType|MasVnrArea|ExterQual|ExterCond|Foundation|BsmtQual|BsmtCond|BsmtExposure|BsmtFinType1|BsmtFinSF1|BsmtFinType2|BsmtFinSF2|BsmtUnfSF|TotalBsmtSF|Heating|HeatingQC|CentralAir|Electrical|1stFlrSF|2ndFlrSF|LowQualFinSF|GrLivArea|BsmtFullBath|BsmtHalfBath|FullBath|HalfBath|BedroomAbvGr|KitchenAbvGr|KitchenQual|TotRmsAbvGrd|Functional|Fireplaces|FireplaceQu|GarageType|GarageYrBlt|GarageFinish|GarageCars|GarageArea|GarageQual|GarageCond|PavedDrive|WoodDeckSF|OpenPorchSF|EnclosedPorch|3SsnPorch|ScreenPorch|PoolArea|PoolQC|Fence|MiscFeature|MiscVal|MoSold|YrSold|SaleType|SaleCondition|SalePrice|\n",
      "+---+----------+--------+-----------+-------+------+-----+--------+-----------+---------+---------+---------+------------+----------+----------+--------+----------+-----------+-----------+---------+------------+---------+--------+-----------+-----------+----------+----------+---------+---------+----------+--------+--------+------------+------------+----------+------------+----------+---------+-----------+-------+---------+----------+----------+--------+--------+------------+---------+------------+------------+--------+--------+------------+------------+-----------+------------+----------+----------+-----------+----------+-----------+------------+----------+----------+----------+----------+----------+----------+-----------+-------------+---------+-----------+--------+------+-----+-----------+-------+------+------+--------+-------------+---------+\n",
      "|  1|        60|      RL|         65|   8450|  Pave|   NA|     Reg|        Lvl|   AllPub|   Inside|      Gtl|     CollgCr|      Norm|      Norm|    1Fam|    2Story|          7|          5|     2003|        2003|    Gable| CompShg|    VinylSd|    VinylSd|   BrkFace|       196|       Gd|       TA|     PConc|      Gd|      TA|          No|         GLQ|       706|         Unf|         0|      150|        856|   GasA|       Ex|         Y|     SBrkr|     856|     854|           0|     1710|           1|           0|       2|       1|           3|           1|         Gd|           8|       Typ|         0|         NA|    Attchd|       2003|         RFn|         2|       548|        TA|        TA|         Y|         0|         61|            0|        0|          0|       0|    NA|   NA|         NA|      0|     2|  2008|      WD|       Normal|   208500|\n",
      "|  2|        20|      RL|         80|   9600|  Pave|   NA|     Reg|        Lvl|   AllPub|      FR2|      Gtl|     Veenker|     Feedr|      Norm|    1Fam|    1Story|          6|          8|     1976|        1976|    Gable| CompShg|    MetalSd|    MetalSd|      None|         0|       TA|       TA|    CBlock|      Gd|      TA|          Gd|         ALQ|       978|         Unf|         0|      284|       1262|   GasA|       Ex|         Y|     SBrkr|    1262|       0|           0|     1262|           0|           1|       2|       0|           3|           1|         TA|           6|       Typ|         1|         TA|    Attchd|       1976|         RFn|         2|       460|        TA|        TA|         Y|       298|          0|            0|        0|          0|       0|    NA|   NA|         NA|      0|     5|  2007|      WD|       Normal|   181500|\n",
      "|  3|        60|      RL|         68|  11250|  Pave|   NA|     IR1|        Lvl|   AllPub|   Inside|      Gtl|     CollgCr|      Norm|      Norm|    1Fam|    2Story|          7|          5|     2001|        2002|    Gable| CompShg|    VinylSd|    VinylSd|   BrkFace|       162|       Gd|       TA|     PConc|      Gd|      TA|          Mn|         GLQ|       486|         Unf|         0|      434|        920|   GasA|       Ex|         Y|     SBrkr|     920|     866|           0|     1786|           1|           0|       2|       1|           3|           1|         Gd|           6|       Typ|         1|         TA|    Attchd|       2001|         RFn|         2|       608|        TA|        TA|         Y|         0|         42|            0|        0|          0|       0|    NA|   NA|         NA|      0|     9|  2008|      WD|       Normal|   223500|\n",
      "|  4|        70|      RL|         60|   9550|  Pave|   NA|     IR1|        Lvl|   AllPub|   Corner|      Gtl|     Crawfor|      Norm|      Norm|    1Fam|    2Story|          7|          5|     1915|        1970|    Gable| CompShg|    Wd Sdng|    Wd Shng|      None|         0|       TA|       TA|    BrkTil|      TA|      Gd|          No|         ALQ|       216|         Unf|         0|      540|        756|   GasA|       Gd|         Y|     SBrkr|     961|     756|           0|     1717|           1|           0|       1|       0|           3|           1|         Gd|           7|       Typ|         1|         Gd|    Detchd|       1998|         Unf|         3|       642|        TA|        TA|         Y|         0|         35|          272|        0|          0|       0|    NA|   NA|         NA|      0|     2|  2006|      WD|      Abnorml|   140000|\n",
      "|  5|        60|      RL|         84|  14260|  Pave|   NA|     IR1|        Lvl|   AllPub|      FR2|      Gtl|     NoRidge|      Norm|      Norm|    1Fam|    2Story|          8|          5|     2000|        2000|    Gable| CompShg|    VinylSd|    VinylSd|   BrkFace|       350|       Gd|       TA|     PConc|      Gd|      TA|          Av|         GLQ|       655|         Unf|         0|      490|       1145|   GasA|       Ex|         Y|     SBrkr|    1145|    1053|           0|     2198|           1|           0|       2|       1|           4|           1|         Gd|           9|       Typ|         1|         TA|    Attchd|       2000|         RFn|         3|       836|        TA|        TA|         Y|       192|         84|            0|        0|          0|       0|    NA|   NA|         NA|      0|    12|  2008|      WD|       Normal|   250000|\n",
      "+---+----------+--------+-----------+-------+------+-----+--------+-----------+---------+---------+---------+------------+----------+----------+--------+----------+-----------+-----------+---------+------------+---------+--------+-----------+-----------+----------+----------+---------+---------+----------+--------+--------+------------+------------+----------+------------+----------+---------+-----------+-------+---------+----------+----------+--------+--------+------------+---------+------------+------------+--------+--------+------------+------------+-----------+------------+----------+----------+-----------+----------+-----------+------------+----------+----------+----------+----------+----------+----------+-----------+-------------+---------+-----------+--------+------+-----+-----------+-------+------+------+--------+-------------+---------+\n",
      "only showing top 5 rows\n",
      "\n"
     ]
    }
   ],
   "source": [
    "# Read data\n",
    "hp = spark.read.csv('housprice.csv', header=True, inferSchema=True)\n",
    "hp.show(5)"
   ]
  },
  {
   "cell_type": "markdown",
   "metadata": {},
   "source": [
    "- Exploratory Data Analysis"
   ]
  },
  {
   "cell_type": "code",
   "execution_count": 5,
   "metadata": {},
   "outputs": [
    {
     "name": "stdout",
     "output_type": "stream",
     "text": [
      "root\n",
      " |-- Id: integer (nullable = true)\n",
      " |-- MSSubClass: integer (nullable = true)\n",
      " |-- MSZoning: string (nullable = true)\n",
      " |-- LotFrontage: string (nullable = true)\n",
      " |-- LotArea: integer (nullable = true)\n",
      " |-- Street: string (nullable = true)\n",
      " |-- Alley: string (nullable = true)\n",
      " |-- LotShape: string (nullable = true)\n",
      " |-- LandContour: string (nullable = true)\n",
      " |-- Utilities: string (nullable = true)\n",
      " |-- LotConfig: string (nullable = true)\n",
      " |-- LandSlope: string (nullable = true)\n",
      " |-- Neighborhood: string (nullable = true)\n",
      " |-- Condition1: string (nullable = true)\n",
      " |-- Condition2: string (nullable = true)\n",
      " |-- BldgType: string (nullable = true)\n",
      " |-- HouseStyle: string (nullable = true)\n",
      " |-- OverallQual: integer (nullable = true)\n",
      " |-- OverallCond: integer (nullable = true)\n",
      " |-- YearBuilt: integer (nullable = true)\n",
      " |-- YearRemodAdd: integer (nullable = true)\n",
      " |-- RoofStyle: string (nullable = true)\n",
      " |-- RoofMatl: string (nullable = true)\n",
      " |-- Exterior1st: string (nullable = true)\n",
      " |-- Exterior2nd: string (nullable = true)\n",
      " |-- MasVnrType: string (nullable = true)\n",
      " |-- MasVnrArea: string (nullable = true)\n",
      " |-- ExterQual: string (nullable = true)\n",
      " |-- ExterCond: string (nullable = true)\n",
      " |-- Foundation: string (nullable = true)\n",
      " |-- BsmtQual: string (nullable = true)\n",
      " |-- BsmtCond: string (nullable = true)\n",
      " |-- BsmtExposure: string (nullable = true)\n",
      " |-- BsmtFinType1: string (nullable = true)\n",
      " |-- BsmtFinSF1: integer (nullable = true)\n",
      " |-- BsmtFinType2: string (nullable = true)\n",
      " |-- BsmtFinSF2: integer (nullable = true)\n",
      " |-- BsmtUnfSF: integer (nullable = true)\n",
      " |-- TotalBsmtSF: integer (nullable = true)\n",
      " |-- Heating: string (nullable = true)\n",
      " |-- HeatingQC: string (nullable = true)\n",
      " |-- CentralAir: string (nullable = true)\n",
      " |-- Electrical: string (nullable = true)\n",
      " |-- 1stFlrSF: integer (nullable = true)\n",
      " |-- 2ndFlrSF: integer (nullable = true)\n",
      " |-- LowQualFinSF: integer (nullable = true)\n",
      " |-- GrLivArea: integer (nullable = true)\n",
      " |-- BsmtFullBath: integer (nullable = true)\n",
      " |-- BsmtHalfBath: integer (nullable = true)\n",
      " |-- FullBath: integer (nullable = true)\n",
      " |-- HalfBath: integer (nullable = true)\n",
      " |-- BedroomAbvGr: integer (nullable = true)\n",
      " |-- KitchenAbvGr: integer (nullable = true)\n",
      " |-- KitchenQual: string (nullable = true)\n",
      " |-- TotRmsAbvGrd: integer (nullable = true)\n",
      " |-- Functional: string (nullable = true)\n",
      " |-- Fireplaces: integer (nullable = true)\n",
      " |-- FireplaceQu: string (nullable = true)\n",
      " |-- GarageType: string (nullable = true)\n",
      " |-- GarageYrBlt: string (nullable = true)\n",
      " |-- GarageFinish: string (nullable = true)\n",
      " |-- GarageCars: integer (nullable = true)\n",
      " |-- GarageArea: integer (nullable = true)\n",
      " |-- GarageQual: string (nullable = true)\n",
      " |-- GarageCond: string (nullable = true)\n",
      " |-- PavedDrive: string (nullable = true)\n",
      " |-- WoodDeckSF: integer (nullable = true)\n",
      " |-- OpenPorchSF: integer (nullable = true)\n",
      " |-- EnclosedPorch: integer (nullable = true)\n",
      " |-- 3SsnPorch: integer (nullable = true)\n",
      " |-- ScreenPorch: integer (nullable = true)\n",
      " |-- PoolArea: integer (nullable = true)\n",
      " |-- PoolQC: string (nullable = true)\n",
      " |-- Fence: string (nullable = true)\n",
      " |-- MiscFeature: string (nullable = true)\n",
      " |-- MiscVal: integer (nullable = true)\n",
      " |-- MoSold: integer (nullable = true)\n",
      " |-- YrSold: integer (nullable = true)\n",
      " |-- SaleType: string (nullable = true)\n",
      " |-- SaleCondition: string (nullable = true)\n",
      " |-- SalePrice: integer (nullable = true)\n",
      "\n"
     ]
    }
   ],
   "source": [
    "# Check the schema\n",
    "hp.printSchema()"
   ]
  },
  {
   "cell_type": "markdown",
   "metadata": {},
   "source": [
    "- The schema seems does not match with the value. Let's redefine it."
   ]
  },
  {
   "cell_type": "code",
   "execution_count": 6,
   "metadata": {},
   "outputs": [],
   "source": [
    "from pyspark.sql.types import *\n",
    "from pyspark.sql.functions import col\n",
    "\n",
    "hp = hp.withColumn(\"LotFrontage\", col(\"LotFrontage\").cast(IntegerType()))\n",
    "hp = hp.withColumn(\"MasVnrArea\", col(\"MasVnrArea\").cast(IntegerType()))\n",
    "hp = hp.withColumn(\"GarageYrBlt\", col(\"GarageYrBlt\").cast(IntegerType()))"
   ]
  },
  {
   "cell_type": "code",
   "execution_count": 7,
   "metadata": {},
   "outputs": [
    {
     "name": "stdout",
     "output_type": "stream",
     "text": [
      "+-------+-----------------+------------------+--------+-----------------+------------------+------+-----+--------+-----------+---------+---------+---------+------------+----------+----------+--------+----------+------------------+------------------+------------------+------------------+---------+--------+-----------+-----------+----------+------------------+---------+---------+----------+--------+--------+------------+------------+-----------------+------------+-----------------+-----------------+------------------+-------+---------+----------+----------+-----------------+------------------+-----------------+-----------------+-------------------+--------------------+------------------+-------------------+------------------+-------------------+-----------+------------------+----------+------------------+-----------+----------+------------------+------------+------------------+-----------------+----------+----------+----------+------------------+-----------------+------------------+------------------+------------------+-----------------+------+-----+-----------+------------------+------------------+------------------+--------+-------------+------------------+\n",
      "|summary|               Id|        MSSubClass|MSZoning|      LotFrontage|           LotArea|Street|Alley|LotShape|LandContour|Utilities|LotConfig|LandSlope|Neighborhood|Condition1|Condition2|BldgType|HouseStyle|       OverallQual|       OverallCond|         YearBuilt|      YearRemodAdd|RoofStyle|RoofMatl|Exterior1st|Exterior2nd|MasVnrType|        MasVnrArea|ExterQual|ExterCond|Foundation|BsmtQual|BsmtCond|BsmtExposure|BsmtFinType1|       BsmtFinSF1|BsmtFinType2|       BsmtFinSF2|        BsmtUnfSF|       TotalBsmtSF|Heating|HeatingQC|CentralAir|Electrical|         1stFlrSF|          2ndFlrSF|     LowQualFinSF|        GrLivArea|       BsmtFullBath|        BsmtHalfBath|          FullBath|           HalfBath|      BedroomAbvGr|       KitchenAbvGr|KitchenQual|      TotRmsAbvGrd|Functional|        Fireplaces|FireplaceQu|GarageType|       GarageYrBlt|GarageFinish|        GarageCars|       GarageArea|GarageQual|GarageCond|PavedDrive|        WoodDeckSF|      OpenPorchSF|     EnclosedPorch|         3SsnPorch|       ScreenPorch|         PoolArea|PoolQC|Fence|MiscFeature|           MiscVal|            MoSold|            YrSold|SaleType|SaleCondition|         SalePrice|\n",
      "+-------+-----------------+------------------+--------+-----------------+------------------+------+-----+--------+-----------+---------+---------+---------+------------+----------+----------+--------+----------+------------------+------------------+------------------+------------------+---------+--------+-----------+-----------+----------+------------------+---------+---------+----------+--------+--------+------------+------------+-----------------+------------+-----------------+-----------------+------------------+-------+---------+----------+----------+-----------------+------------------+-----------------+-----------------+-------------------+--------------------+------------------+-------------------+------------------+-------------------+-----------+------------------+----------+------------------+-----------+----------+------------------+------------+------------------+-----------------+----------+----------+----------+------------------+-----------------+------------------+------------------+------------------+-----------------+------+-----+-----------+------------------+------------------+------------------+--------+-------------+------------------+\n",
      "|  count|             1460|              1460|    1460|             1201|              1460|  1460| 1460|    1460|       1460|     1460|     1460|     1460|        1460|      1460|      1460|    1460|      1460|              1460|              1460|              1460|              1460|     1460|    1460|       1460|       1460|      1460|              1452|     1460|     1460|      1460|    1460|    1460|        1460|        1460|             1460|        1460|             1460|             1460|              1460|   1460|     1460|      1460|      1460|             1460|              1460|             1460|             1460|               1460|                1460|              1460|               1460|              1460|               1460|       1460|              1460|      1460|              1460|       1460|      1460|              1379|        1460|              1460|             1460|      1460|      1460|      1460|              1460|             1460|              1460|              1460|              1460|             1460|  1460| 1460|       1460|              1460|              1460|              1460|    1460|         1460|              1460|\n",
      "|   mean|            730.5|56.897260273972606|    NULL|70.04995836802665|10516.828082191782|  NULL| NULL|    NULL|       NULL|     NULL|     NULL|     NULL|        NULL|      NULL|      NULL|    NULL|      NULL|6.0993150684931505| 5.575342465753424| 1971.267808219178|1984.8657534246574|     NULL|    NULL|       NULL|       NULL|      NULL|103.68526170798899|     NULL|     NULL|      NULL|    NULL|    NULL|        NULL|        NULL|443.6397260273973|        NULL|46.54931506849315|567.2404109589041|1057.4294520547944|   NULL|     NULL|      NULL|      NULL|1162.626712328767|346.99246575342465|5.844520547945206|1515.463698630137|0.42534246575342466|0.057534246575342465|1.5650684931506849|0.38287671232876713|2.8664383561643834| 1.0465753424657533|       NULL| 6.517808219178082|      NULL| 0.613013698630137|       NULL|      NULL|1978.5061638868744|        NULL|1.7671232876712328|472.9801369863014|      NULL|      NULL|      NULL|  94.2445205479452|46.66027397260274|21.954109589041096|3.4095890410958902|15.060958904109588|2.758904109589041|  NULL| NULL|       NULL|43.489041095890414| 6.321917808219178|2007.8157534246575|    NULL|         NULL|180921.19589041095|\n",
      "| stddev|421.6100093688479| 42.30057099381045|    NULL|24.28475177448321|  9981.26493237915|  NULL| NULL|    NULL|       NULL|     NULL|     NULL|     NULL|        NULL|      NULL|      NULL|    NULL|      NULL|1.3829965467415926|1.1127993367127318|30.202904042525294| 20.64540680770938|     NULL|    NULL|       NULL|       NULL|      NULL|181.06620658721647|     NULL|     NULL|      NULL|    NULL|    NULL|        NULL|        NULL|456.0980908409278|        NULL|161.3192728065416|441.8669552924343| 438.7053244594709|   NULL|     NULL|      NULL|      NULL|386.5877380410744|  436.528435886257|48.62308143352024|525.4803834232024| 0.5189106060898061| 0.23875264627921197|0.5509158012954318| 0.5028853810928912|0.8157780441442279|0.22033819838403076|       NULL|1.6253932905840511|      NULL|0.6446663863122297|       NULL|      NULL| 24.68972476859027|        NULL|0.7473150101111095|213.8048414533803|      NULL|      NULL|      NULL|125.33879435172422| 66.2560276766497| 61.11914860172857|29.317330556781872| 55.75741528187416|40.17730694453021|  NULL| NULL|       NULL| 496.1230244579441|2.7036262083595113|1.3280951205521145|    NULL|         NULL| 79442.50288288663|\n",
      "|    min|                1|                20| C (all)|               21|              1300|  Grvl| Grvl|     IR1|        Bnk|   AllPub|   Corner|      Gtl|     Blmngtn|    Artery|    Artery|    1Fam|    1.5Fin|                 1|                 1|              1872|              1950|     Flat| ClyTile|    AsbShng|    AsbShng|    BrkCmn|                 0|       Ex|       Ex|    BrkTil|      Ex|      Fa|          Av|         ALQ|                0|         ALQ|                0|                0|                 0|  Floor|       Ex|         N|     FuseA|              334|                 0|                0|              334|                  0|                   0|                 0|                  0|                 0|                  0|         Ex|                 2|      Maj1|                 0|         Ex|    2Types|              1900|         Fin|                 0|                0|        Ex|        Ex|         N|                 0|                0|                 0|                 0|                 0|                0|    Ex|GdPrv|       Gar2|                 0|                 1|              2006|     COD|      Abnorml|             34900|\n",
      "|    max|             1460|               190|      RM|              313|            215245|  Pave| Pave|     Reg|        Lvl|   NoSeWa|   Inside|      Sev|     Veenker|      RRNn|      RRNn|  TwnhsE|      SLvl|                10|                 9|              2010|              2010|     Shed| WdShngl|    WdShing|    Wd Shng|     Stone|              1600|       TA|       TA|      Wood|      TA|      TA|          No|         Unf|             5644|         Unf|             1474|             2336|              6110|   Wall|       TA|         Y|     SBrkr|             4692|              2065|              572|             5642|                  3|                   2|                 3|                  2|                 8|                  3|         TA|                14|       Typ|                 3|         TA|        NA|              2010|         Unf|                 4|             1418|        TA|        TA|         Y|               857|              547|               552|               508|               480|              738|    NA|   NA|       TenC|             15500|                12|              2010|      WD|      Partial|            755000|\n",
      "+-------+-----------------+------------------+--------+-----------------+------------------+------+-----+--------+-----------+---------+---------+---------+------------+----------+----------+--------+----------+------------------+------------------+------------------+------------------+---------+--------+-----------+-----------+----------+------------------+---------+---------+----------+--------+--------+------------+------------+-----------------+------------+-----------------+-----------------+------------------+-------+---------+----------+----------+-----------------+------------------+-----------------+-----------------+-------------------+--------------------+------------------+-------------------+------------------+-------------------+-----------+------------------+----------+------------------+-----------+----------+------------------+------------+------------------+-----------------+----------+----------+----------+------------------+-----------------+------------------+------------------+------------------+-----------------+------+-----+-----------+------------------+------------------+------------------+--------+-------------+------------------+\n",
      "\n"
     ]
    }
   ],
   "source": [
    "# Summary statistics\n",
    "hp.describe().show()"
   ]
  },
  {
   "cell_type": "markdown",
   "metadata": {},
   "source": [
    "Feature Selecting\n",
    "\n",
    "- Select those features that have strong impact on the SellPrice value. (e.g. if it increase --> the price increase)\n",
    "- Ignore those features that have imbalanced distribution between the values.\n",
    "- Ignore those features that have too much NA values."
   ]
  },
  {
   "cell_type": "code",
   "execution_count": 8,
   "metadata": {},
   "outputs": [],
   "source": [
    "selected_features = ['LotFrontage', 'LotArea', 'Neighborhood', 'OverallQual', 'OverallCond', 'YearBuilt', 'YearRemodAdd', 'Exterior1st', 'Exterior2nd', 'MasVnrType', 'MasVnrArea','ExterQual', 'ExterCond', 'BsmtQual', 'Electrical', '1stFlrSF', 'LowQualFinSF', 'BedroomAbvGr', 'KitchenQual', 'TotRmsAbvGrd', 'GarageArea', 'PavedDrive', 'WoodDeckSF', 'SaleCondition' , 'SalePrice']"
   ]
  },
  {
   "cell_type": "code",
   "execution_count": 9,
   "metadata": {},
   "outputs": [
    {
     "name": "stdout",
     "output_type": "stream",
     "text": [
      "+-----------+-------+------------+-----------+-----------+---------+------------+-----------+-----------+----------+----------+---------+---------+--------+----------+--------+------------+------------+-----------+------------+----------+----------+----------+-------------+---------+\n",
      "|LotFrontage|LotArea|Neighborhood|OverallQual|OverallCond|YearBuilt|YearRemodAdd|Exterior1st|Exterior2nd|MasVnrType|MasVnrArea|ExterQual|ExterCond|BsmtQual|Electrical|1stFlrSF|LowQualFinSF|BedroomAbvGr|KitchenQual|TotRmsAbvGrd|GarageArea|PavedDrive|WoodDeckSF|SaleCondition|SalePrice|\n",
      "+-----------+-------+------------+-----------+-----------+---------+------------+-----------+-----------+----------+----------+---------+---------+--------+----------+--------+------------+------------+-----------+------------+----------+----------+----------+-------------+---------+\n",
      "|         65|   8450|     CollgCr|          7|          5|     2003|        2003|    VinylSd|    VinylSd|   BrkFace|       196|       Gd|       TA|      Gd|     SBrkr|     856|           0|           3|         Gd|           8|       548|         Y|         0|       Normal|   208500|\n",
      "|         80|   9600|     Veenker|          6|          8|     1976|        1976|    MetalSd|    MetalSd|      None|         0|       TA|       TA|      Gd|     SBrkr|    1262|           0|           3|         TA|           6|       460|         Y|       298|       Normal|   181500|\n",
      "|         68|  11250|     CollgCr|          7|          5|     2001|        2002|    VinylSd|    VinylSd|   BrkFace|       162|       Gd|       TA|      Gd|     SBrkr|     920|           0|           3|         Gd|           6|       608|         Y|         0|       Normal|   223500|\n",
      "|         60|   9550|     Crawfor|          7|          5|     1915|        1970|    Wd Sdng|    Wd Shng|      None|         0|       TA|       TA|      TA|     SBrkr|     961|           0|           3|         Gd|           7|       642|         Y|         0|      Abnorml|   140000|\n",
      "|         84|  14260|     NoRidge|          8|          5|     2000|        2000|    VinylSd|    VinylSd|   BrkFace|       350|       Gd|       TA|      Gd|     SBrkr|    1145|           0|           4|         Gd|           9|       836|         Y|       192|       Normal|   250000|\n",
      "|         85|  14115|     Mitchel|          5|          5|     1993|        1995|    VinylSd|    VinylSd|      None|         0|       TA|       TA|      Gd|     SBrkr|     796|           0|           1|         TA|           5|       480|         Y|        40|       Normal|   143000|\n",
      "|         75|  10084|     Somerst|          8|          5|     2004|        2005|    VinylSd|    VinylSd|     Stone|       186|       Gd|       TA|      Ex|     SBrkr|    1694|           0|           3|         Gd|           7|       636|         Y|       255|       Normal|   307000|\n",
      "|       NULL|  10382|      NWAmes|          7|          6|     1973|        1973|    HdBoard|    HdBoard|     Stone|       240|       TA|       TA|      Gd|     SBrkr|    1107|           0|           3|         TA|           7|       484|         Y|       235|       Normal|   200000|\n",
      "|         51|   6120|     OldTown|          7|          5|     1931|        1950|    BrkFace|    Wd Shng|      None|         0|       TA|       TA|      TA|     FuseF|    1022|           0|           2|         TA|           8|       468|         Y|        90|      Abnorml|   129900|\n",
      "|         50|   7420|     BrkSide|          5|          6|     1939|        1950|    MetalSd|    MetalSd|      None|         0|       TA|       TA|      TA|     SBrkr|    1077|           0|           2|         TA|           5|       205|         Y|         0|       Normal|   118000|\n",
      "|         70|  11200|      Sawyer|          5|          5|     1965|        1965|    HdBoard|    HdBoard|      None|         0|       TA|       TA|      TA|     SBrkr|    1040|           0|           3|         TA|           5|       384|         Y|         0|       Normal|   129500|\n",
      "|         85|  11924|     NridgHt|          9|          5|     2005|        2006|    WdShing|    Wd Shng|     Stone|       286|       Ex|       TA|      Ex|     SBrkr|    1182|           0|           4|         Ex|          11|       736|         Y|       147|      Partial|   345000|\n",
      "|       NULL|  12968|      Sawyer|          5|          6|     1962|        1962|    HdBoard|    Plywood|      None|         0|       TA|       TA|      TA|     SBrkr|     912|           0|           2|         TA|           4|       352|         Y|       140|       Normal|   144000|\n",
      "|         91|  10652|     CollgCr|          7|          5|     2006|        2007|    VinylSd|    VinylSd|     Stone|       306|       Gd|       TA|      Gd|     SBrkr|    1494|           0|           3|         Gd|           7|       840|         Y|       160|      Partial|   279500|\n",
      "|       NULL|  10920|       NAmes|          6|          5|     1960|        1960|    MetalSd|    MetalSd|   BrkFace|       212|       TA|       TA|      TA|     SBrkr|    1253|           0|           2|         TA|           5|       352|         Y|         0|       Normal|   157000|\n",
      "|         51|   6120|     BrkSide|          7|          8|     1929|        2001|    Wd Sdng|    Wd Sdng|      None|         0|       TA|       TA|      TA|     FuseA|     854|           0|           2|         TA|           5|       576|         Y|        48|       Normal|   132000|\n",
      "|       NULL|  11241|       NAmes|          6|          7|     1970|        1970|    Wd Sdng|    Wd Sdng|   BrkFace|       180|       TA|       TA|      TA|     SBrkr|    1004|           0|           2|         TA|           5|       480|         Y|         0|       Normal|   149000|\n",
      "|         72|  10791|      Sawyer|          4|          5|     1967|        1967|    MetalSd|    MetalSd|      None|         0|       TA|       TA|      NA|     SBrkr|    1296|           0|           2|         TA|           6|       516|         Y|         0|       Normal|    90000|\n",
      "|         66|  13695|     SawyerW|          5|          5|     2004|        2004|    VinylSd|    VinylSd|      None|         0|       TA|       TA|      TA|     SBrkr|    1114|           0|           3|         Gd|           6|       576|         Y|         0|       Normal|   159000|\n",
      "|         70|   7560|       NAmes|          5|          6|     1958|        1965|    BrkFace|    Plywood|      None|         0|       TA|       TA|      TA|     SBrkr|    1339|           0|           3|         TA|           6|       294|         Y|         0|      Abnorml|   139000|\n",
      "+-----------+-------+------------+-----------+-----------+---------+------------+-----------+-----------+----------+----------+---------+---------+--------+----------+--------+------------+------------+-----------+------------+----------+----------+----------+-------------+---------+\n",
      "only showing top 20 rows\n",
      "\n"
     ]
    }
   ],
   "source": [
    "# Create new dataframe based on new selected feeatures\n",
    "new_hp = hp.select(selected_features)\n",
    "new_hp.show()"
   ]
  },
  {
   "cell_type": "markdown",
   "metadata": {},
   "source": [
    "- Missing Values Handling"
   ]
  },
  {
   "cell_type": "code",
   "execution_count": 10,
   "metadata": {},
   "outputs": [],
   "source": [
    "# Define categorical/numerical features\n",
    "numeric_cols = ['LotFrontage', 'LotArea', 'OverallQual', 'OverallCond', 'YearBuilt', 'YearRemodAdd', 'MasVnrArea', '1stFlrSF', 'LowQualFinSF', 'BedroomAbvGr', 'TotRmsAbvGrd', 'GarageArea', 'WoodDeckSF']\n",
    "categorical_cols = ['Neighborhood', 'Exterior1st', 'Exterior2nd', 'MasVnrType', 'ExterQual', 'ExterCond', 'BsmtQual', 'Electrical', 'KitchenQual', 'PavedDrive', 'SaleCondition' ]"
   ]
  },
  {
   "cell_type": "code",
   "execution_count": 11,
   "metadata": {},
   "outputs": [
    {
     "name": "stdout",
     "output_type": "stream",
     "text": [
      "+-----------+-------+------------+-----------+-----------+---------+------------+-----------+-----------+----------+----------+---------+---------+--------+----------+--------+------------+------------+-----------+------------+----------+----------+----------+-------------+---------+\n",
      "|LotFrontage|LotArea|Neighborhood|OverallQual|OverallCond|YearBuilt|YearRemodAdd|Exterior1st|Exterior2nd|MasVnrType|MasVnrArea|ExterQual|ExterCond|BsmtQual|Electrical|1stFlrSF|LowQualFinSF|BedroomAbvGr|KitchenQual|TotRmsAbvGrd|GarageArea|PavedDrive|WoodDeckSF|SaleCondition|SalePrice|\n",
      "+-----------+-------+------------+-----------+-----------+---------+------------+-----------+-----------+----------+----------+---------+---------+--------+----------+--------+------------+------------+-----------+------------+----------+----------+----------+-------------+---------+\n",
      "|        259|      0|           0|          0|          0|        0|           0|          0|          0|         0|         8|        0|        0|       0|         0|       0|           0|           0|          0|           0|         0|         0|         0|            0|        0|\n",
      "+-----------+-------+------------+-----------+-----------+---------+------------+-----------+-----------+----------+----------+---------+---------+--------+----------+--------+------------+------------+-----------+------------+----------+----------+----------+-------------+---------+\n",
      "\n"
     ]
    }
   ],
   "source": [
    "# Check the missing values\n",
    "from pyspark.sql.functions import col, when, isnan, count\n",
    "\n",
    "missing_values = new_hp.select([count(when(isnan(c) | col(c).isNull(), c)).alias(c) for c in new_hp.columns])\n",
    "missing_values.show()"
   ]
  },
  {
   "cell_type": "code",
   "execution_count": 12,
   "metadata": {},
   "outputs": [],
   "source": [
    "# Handle missing value\n",
    "from pyspark.sql.functions import col, when, max\n",
    "\n",
    "# With numerical attributes\n",
    "# Convert 'NA' strings to null values for all numeric attributes\n",
    "new_hp = new_hp.select([when(col(c) == 'NA', None).otherwise(col(c)).alias(c) for c in new_hp.columns])\n",
    "\n",
    "# Fill null values with 0\n",
    "new_hp = new_hp.fillna(0)\n",
    "\n",
    "# With categorical attributes\n",
    "# Fill null values in categorical attributes with the most frequent value\n",
    "for column_name in categorical_cols:\n",
    "    new_hp = new_hp.na.fill(new_hp.groupBy().agg(max(col(column_name))).collect()[0][0], subset=[column_name])\n"
   ]
  },
  {
   "cell_type": "code",
   "execution_count": 13,
   "metadata": {},
   "outputs": [
    {
     "name": "stdout",
     "output_type": "stream",
     "text": [
      "+-----------+-------+------------+-----------+-----------+---------+------------+-----------+-----------+----------+----------+---------+---------+--------+----------+--------+------------+------------+-----------+------------+----------+----------+----------+-------------+---------+\n",
      "|LotFrontage|LotArea|Neighborhood|OverallQual|OverallCond|YearBuilt|YearRemodAdd|Exterior1st|Exterior2nd|MasVnrType|MasVnrArea|ExterQual|ExterCond|BsmtQual|Electrical|1stFlrSF|LowQualFinSF|BedroomAbvGr|KitchenQual|TotRmsAbvGrd|GarageArea|PavedDrive|WoodDeckSF|SaleCondition|SalePrice|\n",
      "+-----------+-------+------------+-----------+-----------+---------+------------+-----------+-----------+----------+----------+---------+---------+--------+----------+--------+------------+------------+-----------+------------+----------+----------+----------+-------------+---------+\n",
      "|          0|      0|           0|          0|          0|        0|           0|          0|          0|         0|         0|        0|        0|       0|         0|       0|           0|           0|          0|           0|         0|         0|         0|            0|        0|\n",
      "+-----------+-------+------------+-----------+-----------+---------+------------+-----------+-----------+----------+----------+---------+---------+--------+----------+--------+------------+------------+-----------+------------+----------+----------+----------+-------------+---------+\n",
      "\n"
     ]
    }
   ],
   "source": [
    "# Checking if there are any remaining missing values\n",
    "missing_values = new_hp.select([count(when(isnan(c) | col(c).isNull(), c)).alias(c) for c in new_hp.columns])\n",
    "missing_values.show()"
   ]
  },
  {
   "cell_type": "markdown",
   "metadata": {},
   "source": [
    "Feature Engineering: StringIndexing, OneHotEncoding, VectorAssembling methods"
   ]
  },
  {
   "cell_type": "code",
   "execution_count": 14,
   "metadata": {},
   "outputs": [],
   "source": [
    "from pyspark.ml.feature import StringIndexer, OneHotEncoder, VectorAssembler\n",
    "from pyspark.ml import Pipeline"
   ]
  },
  {
   "cell_type": "code",
   "execution_count": 15,
   "metadata": {},
   "outputs": [
    {
     "name": "stdout",
     "output_type": "stream",
     "text": [
      "+-----------+-------+------------+-----------+-----------+---------+------------+-----------+-----------+----------+----------+---------+---------+--------+----------+--------+------------+------------+-----------+------------+----------+----------+----------+-------------+---------+--------------------+-------------------+-------------------+------------------+-----------------+-----------------+----------------+------------------+-------------------+------------------+---------------------+--------------------+-------------------+-------------------+------------------+-----------------+-----------------+----------------+------------------+-------------------+------------------+---------------------+\n",
      "|LotFrontage|LotArea|Neighborhood|OverallQual|OverallCond|YearBuilt|YearRemodAdd|Exterior1st|Exterior2nd|MasVnrType|MasVnrArea|ExterQual|ExterCond|BsmtQual|Electrical|1stFlrSF|LowQualFinSF|BedroomAbvGr|KitchenQual|TotRmsAbvGrd|GarageArea|PavedDrive|WoodDeckSF|SaleCondition|SalePrice|indexed_Neighborhood|indexed_Exterior1st|indexed_Exterior2nd|indexed_MasVnrType|indexed_ExterQual|indexed_ExterCond|indexed_BsmtQual|indexed_Electrical|indexed_KitchenQual|indexed_PavedDrive|indexed_SaleCondition|encoded_Neighborhood|encoded_Exterior1st|encoded_Exterior2nd|encoded_MasVnrType|encoded_ExterQual|encoded_ExterCond|encoded_BsmtQual|encoded_Electrical|encoded_KitchenQual|encoded_PavedDrive|encoded_SaleCondition|\n",
      "+-----------+-------+------------+-----------+-----------+---------+------------+-----------+-----------+----------+----------+---------+---------+--------+----------+--------+------------+------------+-----------+------------+----------+----------+----------+-------------+---------+--------------------+-------------------+-------------------+------------------+-----------------+-----------------+----------------+------------------+-------------------+------------------+---------------------+--------------------+-------------------+-------------------+------------------+-----------------+-----------------+----------------+------------------+-------------------+------------------+---------------------+\n",
      "|         65|   8450|     CollgCr|          7|          5|     2003|        2003|    VinylSd|    VinylSd|   BrkFace|       196|       Gd|       TA|      Gd|     SBrkr|     856|           0|           3|         Gd|           8|       548|         Y|         0|       Normal|   208500|                 1.0|                0.0|                0.0|               1.0|              1.0|              0.0|             1.0|               0.0|                1.0|               0.0|                  0.0|      (24,[1],[1.0])|     (14,[0],[1.0])|     (15,[0],[1.0])|     (3,[1],[1.0])|    (3,[1],[1.0])|    (4,[0],[1.0])|   (3,[1],[1.0])|     (4,[0],[1.0])|      (3,[1],[1.0])|     (2,[0],[1.0])|        (5,[0],[1.0])|\n",
      "|         80|   9600|     Veenker|          6|          8|     1976|        1976|    MetalSd|    MetalSd|      None|         0|       TA|       TA|      Gd|     SBrkr|    1262|           0|           3|         TA|           6|       460|         Y|       298|       Normal|   181500|                22.0|                2.0|                1.0|               0.0|              0.0|              0.0|             1.0|               0.0|                0.0|               0.0|                  0.0|     (24,[22],[1.0])|     (14,[2],[1.0])|     (15,[1],[1.0])|     (3,[0],[1.0])|    (3,[0],[1.0])|    (4,[0],[1.0])|   (3,[1],[1.0])|     (4,[0],[1.0])|      (3,[0],[1.0])|     (2,[0],[1.0])|        (5,[0],[1.0])|\n",
      "|         68|  11250|     CollgCr|          7|          5|     2001|        2002|    VinylSd|    VinylSd|   BrkFace|       162|       Gd|       TA|      Gd|     SBrkr|     920|           0|           3|         Gd|           6|       608|         Y|         0|       Normal|   223500|                 1.0|                0.0|                0.0|               1.0|              1.0|              0.0|             1.0|               0.0|                1.0|               0.0|                  0.0|      (24,[1],[1.0])|     (14,[0],[1.0])|     (15,[0],[1.0])|     (3,[1],[1.0])|    (3,[1],[1.0])|    (4,[0],[1.0])|   (3,[1],[1.0])|     (4,[0],[1.0])|      (3,[1],[1.0])|     (2,[0],[1.0])|        (5,[0],[1.0])|\n",
      "|         60|   9550|     Crawfor|          7|          5|     1915|        1970|    Wd Sdng|    Wd Shng|      None|         0|       TA|       TA|      TA|     SBrkr|     961|           0|           3|         Gd|           7|       642|         Y|         0|      Abnorml|   140000|                11.0|                3.0|                6.0|               0.0|              0.0|              0.0|             0.0|               0.0|                1.0|               0.0|                  2.0|     (24,[11],[1.0])|     (14,[3],[1.0])|     (15,[6],[1.0])|     (3,[0],[1.0])|    (3,[0],[1.0])|    (4,[0],[1.0])|   (3,[0],[1.0])|     (4,[0],[1.0])|      (3,[1],[1.0])|     (2,[0],[1.0])|        (5,[2],[1.0])|\n",
      "|         84|  14260|     NoRidge|          8|          5|     2000|        2000|    VinylSd|    VinylSd|   BrkFace|       350|       Gd|       TA|      Gd|     SBrkr|    1145|           0|           4|         Gd|           9|       836|         Y|       192|       Normal|   250000|                13.0|                0.0|                0.0|               1.0|              1.0|              0.0|             1.0|               0.0|                1.0|               0.0|                  0.0|     (24,[13],[1.0])|     (14,[0],[1.0])|     (15,[0],[1.0])|     (3,[1],[1.0])|    (3,[1],[1.0])|    (4,[0],[1.0])|   (3,[1],[1.0])|     (4,[0],[1.0])|      (3,[1],[1.0])|     (2,[0],[1.0])|        (5,[0],[1.0])|\n",
      "+-----------+-------+------------+-----------+-----------+---------+------------+-----------+-----------+----------+----------+---------+---------+--------+----------+--------+------------+------------+-----------+------------+----------+----------+----------+-------------+---------+--------------------+-------------------+-------------------+------------------+-----------------+-----------------+----------------+------------------+-------------------+------------------+---------------------+--------------------+-------------------+-------------------+------------------+-----------------+-----------------+----------------+------------------+-------------------+------------------+---------------------+\n",
      "only showing top 5 rows\n",
      "\n"
     ]
    }
   ],
   "source": [
    "indexers = [StringIndexer(inputCol=column, outputCol=\"indexed_\"+column) for column in categorical_cols]\n",
    "encoders = [OneHotEncoder(inputCol=\"indexed_\"+column, outputCol=\"encoded_\"+column) for column in categorical_cols]\n",
    "pipeline = Pipeline(stages=indexers + encoders)\n",
    "\n",
    "# fit and transform the pipeline\n",
    "encoded_hp = pipeline.fit(new_hp).transform(new_hp)\n",
    "encoded_hp.show(5)"
   ]
  },
  {
   "cell_type": "markdown",
   "metadata": {},
   "source": [
    "Select indexed columns"
   ]
  },
  {
   "cell_type": "code",
   "execution_count": 24,
   "metadata": {},
   "outputs": [
    {
     "data": {
      "text/plain": [
       "['indexed_Neighborhood',\n",
       " 'indexed_Exterior1st',\n",
       " 'indexed_Exterior2nd',\n",
       " 'indexed_MasVnrType',\n",
       " 'indexed_ExterQual',\n",
       " 'indexed_ExterCond',\n",
       " 'indexed_BsmtQual',\n",
       " 'indexed_Electrical',\n",
       " 'indexed_KitchenQual',\n",
       " 'indexed_PavedDrive',\n",
       " 'indexed_SaleCondition']"
      ]
     },
     "execution_count": 24,
     "metadata": {},
     "output_type": "execute_result"
    }
   ],
   "source": [
    "import re\n",
    "\n",
    "# Define the pattern \n",
    "pattern = re.compile(r'^indexed_')\n",
    "\n",
    "# Subtract the set of columns that match the pattern\n",
    "indexed_columns = [col for col in encoded_hp.columns if pattern.match(col)]\n",
    "indexed_columns"
   ]
  },
  {
   "cell_type": "markdown",
   "metadata": {},
   "source": [
    "Select encoded columns"
   ]
  },
  {
   "cell_type": "code",
   "execution_count": 25,
   "metadata": {},
   "outputs": [
    {
     "data": {
      "text/plain": [
       "['encoded_Neighborhood',\n",
       " 'encoded_Exterior1st',\n",
       " 'encoded_Exterior2nd',\n",
       " 'encoded_MasVnrType',\n",
       " 'encoded_ExterQual',\n",
       " 'encoded_ExterCond',\n",
       " 'encoded_BsmtQual',\n",
       " 'encoded_Electrical',\n",
       " 'encoded_KitchenQual',\n",
       " 'encoded_PavedDrive',\n",
       " 'encoded_SaleCondition']"
      ]
     },
     "execution_count": 25,
     "metadata": {},
     "output_type": "execute_result"
    }
   ],
   "source": [
    "# Define the pattern \n",
    "pattern = re.compile(r'^encoded_')\n",
    "\n",
    "# Subtract the set of columns that match the pattern\n",
    "encoded_columns = [col for col in encoded_hp.columns if pattern.match(col)]\n",
    "encoded_columns"
   ]
  },
  {
   "cell_type": "code",
   "execution_count": 26,
   "metadata": {},
   "outputs": [
    {
     "name": "stdout",
     "output_type": "stream",
     "text": [
      "+-----------+-------+------------+-----------+-----------+---------+------------+-----------+-----------+----------+----------+---------+---------+--------+----------+--------+------------+------------+-----------+------------+----------+----------+----------+-------------+---------+--------------------+-------------------+-------------------+------------------+-----------------+-----------------+----------------+------------------+-------------------+------------------+---------------------+--------------------+-------------------+-------------------+------------------+-----------------+-----------------+----------------+------------------+-------------------+------------------+---------------------+--------------------+\n",
      "|LotFrontage|LotArea|Neighborhood|OverallQual|OverallCond|YearBuilt|YearRemodAdd|Exterior1st|Exterior2nd|MasVnrType|MasVnrArea|ExterQual|ExterCond|BsmtQual|Electrical|1stFlrSF|LowQualFinSF|BedroomAbvGr|KitchenQual|TotRmsAbvGrd|GarageArea|PavedDrive|WoodDeckSF|SaleCondition|SalePrice|indexed_Neighborhood|indexed_Exterior1st|indexed_Exterior2nd|indexed_MasVnrType|indexed_ExterQual|indexed_ExterCond|indexed_BsmtQual|indexed_Electrical|indexed_KitchenQual|indexed_PavedDrive|indexed_SaleCondition|encoded_Neighborhood|encoded_Exterior1st|encoded_Exterior2nd|encoded_MasVnrType|encoded_ExterQual|encoded_ExterCond|encoded_BsmtQual|encoded_Electrical|encoded_KitchenQual|encoded_PavedDrive|encoded_SaleCondition|            features|\n",
      "+-----------+-------+------------+-----------+-----------+---------+------------+-----------+-----------+----------+----------+---------+---------+--------+----------+--------+------------+------------+-----------+------------+----------+----------+----------+-------------+---------+--------------------+-------------------+-------------------+------------------+-----------------+-----------------+----------------+------------------+-------------------+------------------+---------------------+--------------------+-------------------+-------------------+------------------+-----------------+-----------------+----------------+------------------+-------------------+------------------+---------------------+--------------------+\n",
      "|         65|   8450|     CollgCr|          7|          5|     2003|        2003|    VinylSd|    VinylSd|   BrkFace|       196|       Gd|       TA|      Gd|     SBrkr|     856|           0|           3|         Gd|           8|       548|         Y|         0|       Normal|   208500|                 1.0|                0.0|                0.0|               1.0|              1.0|              0.0|             1.0|               0.0|                1.0|               0.0|                  0.0|      (24,[1],[1.0])|     (14,[0],[1.0])|     (15,[0],[1.0])|     (3,[1],[1.0])|    (3,[1],[1.0])|    (4,[0],[1.0])|   (3,[1],[1.0])|     (4,[0],[1.0])|      (3,[1],[1.0])|     (2,[0],[1.0])|        (5,[0],[1.0])|(93,[0,1,2,3,4,5,...|\n",
      "|         80|   9600|     Veenker|          6|          8|     1976|        1976|    MetalSd|    MetalSd|      None|         0|       TA|       TA|      Gd|     SBrkr|    1262|           0|           3|         TA|           6|       460|         Y|       298|       Normal|   181500|                22.0|                2.0|                1.0|               0.0|              0.0|              0.0|             1.0|               0.0|                0.0|               0.0|                  0.0|     (24,[22],[1.0])|     (14,[2],[1.0])|     (15,[1],[1.0])|     (3,[0],[1.0])|    (3,[0],[1.0])|    (4,[0],[1.0])|   (3,[1],[1.0])|     (4,[0],[1.0])|      (3,[0],[1.0])|     (2,[0],[1.0])|        (5,[0],[1.0])|(93,[0,1,2,3,4,5,...|\n",
      "|         68|  11250|     CollgCr|          7|          5|     2001|        2002|    VinylSd|    VinylSd|   BrkFace|       162|       Gd|       TA|      Gd|     SBrkr|     920|           0|           3|         Gd|           6|       608|         Y|         0|       Normal|   223500|                 1.0|                0.0|                0.0|               1.0|              1.0|              0.0|             1.0|               0.0|                1.0|               0.0|                  0.0|      (24,[1],[1.0])|     (14,[0],[1.0])|     (15,[0],[1.0])|     (3,[1],[1.0])|    (3,[1],[1.0])|    (4,[0],[1.0])|   (3,[1],[1.0])|     (4,[0],[1.0])|      (3,[1],[1.0])|     (2,[0],[1.0])|        (5,[0],[1.0])|(93,[0,1,2,3,4,5,...|\n",
      "|         60|   9550|     Crawfor|          7|          5|     1915|        1970|    Wd Sdng|    Wd Shng|      None|         0|       TA|       TA|      TA|     SBrkr|     961|           0|           3|         Gd|           7|       642|         Y|         0|      Abnorml|   140000|                11.0|                3.0|                6.0|               0.0|              0.0|              0.0|             0.0|               0.0|                1.0|               0.0|                  2.0|     (24,[11],[1.0])|     (14,[3],[1.0])|     (15,[6],[1.0])|     (3,[0],[1.0])|    (3,[0],[1.0])|    (4,[0],[1.0])|   (3,[0],[1.0])|     (4,[0],[1.0])|      (3,[1],[1.0])|     (2,[0],[1.0])|        (5,[2],[1.0])|(93,[0,1,2,3,4,5,...|\n",
      "|         84|  14260|     NoRidge|          8|          5|     2000|        2000|    VinylSd|    VinylSd|   BrkFace|       350|       Gd|       TA|      Gd|     SBrkr|    1145|           0|           4|         Gd|           9|       836|         Y|       192|       Normal|   250000|                13.0|                0.0|                0.0|               1.0|              1.0|              0.0|             1.0|               0.0|                1.0|               0.0|                  0.0|     (24,[13],[1.0])|     (14,[0],[1.0])|     (15,[0],[1.0])|     (3,[1],[1.0])|    (3,[1],[1.0])|    (4,[0],[1.0])|   (3,[1],[1.0])|     (4,[0],[1.0])|      (3,[1],[1.0])|     (2,[0],[1.0])|        (5,[0],[1.0])|(93,[0,1,2,3,4,5,...|\n",
      "+-----------+-------+------------+-----------+-----------+---------+------------+-----------+-----------+----------+----------+---------+---------+--------+----------+--------+------------+------------+-----------+------------+----------+----------+----------+-------------+---------+--------------------+-------------------+-------------------+------------------+-----------------+-----------------+----------------+------------------+-------------------+------------------+---------------------+--------------------+-------------------+-------------------+------------------+-----------------+-----------------+----------------+------------------+-------------------+------------------+---------------------+--------------------+\n",
      "only showing top 5 rows\n",
      "\n"
     ]
    }
   ],
   "source": [
    "# VectorAssembling\n",
    "assembler = VectorAssembler(inputCols=numeric_cols + encoded_columns, outputCol=\"features\")\n",
    "hp2 = assembler.transform(encoded_hp)\n",
    "hp2.show(5)"
   ]
  },
  {
   "cell_type": "code",
   "execution_count": 28,
   "metadata": {},
   "outputs": [
    {
     "name": "stdout",
     "output_type": "stream",
     "text": [
      "+--------------------+---------+\n",
      "|            features|SalePrice|\n",
      "+--------------------+---------+\n",
      "|(93,[0,1,2,3,4,5,...|   208500|\n",
      "|(93,[0,1,2,3,4,5,...|   181500|\n",
      "|(93,[0,1,2,3,4,5,...|   223500|\n",
      "|(93,[0,1,2,3,4,5,...|   140000|\n",
      "|(93,[0,1,2,3,4,5,...|   250000|\n",
      "+--------------------+---------+\n",
      "only showing top 5 rows\n",
      "\n"
     ]
    }
   ],
   "source": [
    "# Redefine the dataframe for easy use\n",
    "hp2.drop(*indexed_columns, *encoded_columns,*categorical_cols,*numeric_cols)\n",
    "hp2 = hp2.select('features','SalePrice')\n",
    "hp2.show(5)"
   ]
  },
  {
   "cell_type": "markdown",
   "metadata": {},
   "source": [
    "3. Split data into training and test datasets"
   ]
  },
  {
   "cell_type": "code",
   "execution_count": 30,
   "metadata": {},
   "outputs": [],
   "source": [
    "train_data, test_data = hp2.randomSplit([0.8, 0.2], seed=100)"
   ]
  },
  {
   "cell_type": "markdown",
   "metadata": {},
   "source": [
    "4. Use Random Forest model to fit the data"
   ]
  },
  {
   "cell_type": "code",
   "execution_count": 31,
   "metadata": {},
   "outputs": [],
   "source": [
    "from pyspark.ml.regression import RandomForestRegressor\n",
    "from pyspark.ml.evaluation import RegressionEvaluator\n",
    "\n",
    "# Define the RandomForest model\n",
    "rf = RandomForestRegressor(featuresCol=\"features\", labelCol=\"SalePrice\", seed=56)\n",
    "model = rf.fit(train_data)\n",
    "\n",
    "# Make predictions\n",
    "predictions = model.transform(test_data)"
   ]
  },
  {
   "cell_type": "markdown",
   "metadata": {},
   "source": [
    "5. Evaluate The Model"
   ]
  },
  {
   "cell_type": "code",
   "execution_count": 32,
   "metadata": {},
   "outputs": [
    {
     "name": "stdout",
     "output_type": "stream",
     "text": [
      "Root Mean Squared Error (RMSE): 34290.62534683671\n",
      "R-squared (R²): 0.8434743328562527\n"
     ]
    }
   ],
   "source": [
    "# Evaluate the model using RMSE and R-squared\n",
    "rmse_evaluator = RegressionEvaluator(labelCol=\"SalePrice\", predictionCol=\"prediction\", metricName=\"rmse\")\n",
    "r2_evaluator = RegressionEvaluator(labelCol=\"SalePrice\", predictionCol=\"prediction\", metricName=\"r2\")\n",
    "\n",
    "rmse = rmse_evaluator.evaluate(predictions)\n",
    "r2 = r2_evaluator.evaluate(predictions)\n",
    "\n",
    "print(\"Root Mean Squared Error (RMSE):\", rmse)\n",
    "print(\"R-squared (R²):\", r2)"
   ]
  },
  {
   "cell_type": "markdown",
   "metadata": {},
   "source": [
    "6. Plot the prediction value and actual value"
   ]
  },
  {
   "cell_type": "code",
   "execution_count": 33,
   "metadata": {},
   "outputs": [
    {
     "data": {
      "image/png": "[encoded data removed]",
      "text/plain": [
       "<Figure size 1000x600 with 1 Axes>"
      ]
     },
     "metadata": {},
     "output_type": "display_data"
    }
   ],
   "source": [
    "import matplotlib.pyplot as plt\n",
    "import pandas as pd\n",
    "# Collect the predictions and actual values\n",
    "predictions_df = predictions.select(\"prediction\", \"SalePrice\").toPandas()\n",
    "# Plot the results\n",
    "plt.figure(figsize=(10, 6))\n",
    "plt.scatter(predictions_df[\"SalePrice\"], predictions_df[\"prediction\"], alpha=0.5)\n",
    "plt.plot([predictions_df[\"SalePrice\"].min(), predictions_df[\"SalePrice\"].max()],\n",
    "         [predictions_df[\"SalePrice\"].min(), predictions_df[\"SalePrice\"].max()],\n",
    "         color='red', lw=2)\n",
    "plt.xlabel(\"Actual SalePrice\")\n",
    "plt.ylabel(\"Predicted SalePrice\")\n",
    "plt.title(\"Actual vs Predicted SalePrice\")\n",
    "plt.show()"
   ]
  }
 ],
 "metadata": {
  "kernelspec": {
   "display_name": "Python 3",
   "language": "python",
   "name": "python3"
  },
  "language_info": {
   "codemirror_mode": {
    "name": "ipython",
    "version": 3
   },
   "file_extension": ".py",
   "mimetype": "text/x-python",
   "name": "python",
   "nbconvert_exporter": "python",
   "pygments_lexer": "ipython3",
   "version": "3.10.5"
  }
 },
 "nbformat": 4,
 "nbformat_minor": 2
}
